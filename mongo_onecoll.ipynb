{
 "cells": [
  {
   "cell_type": "code",
   "execution_count": 1,
   "metadata": {},
   "outputs": [
    {
     "data": {
      "application/vnd.jupyter.widget-view+json": {
       "model_id": "25371817309b4b7f85fec218abba6a4c",
       "version_major": 2,
       "version_minor": 0
      },
      "text/plain": [
       "HBox(children=(IntProgress(value=1, bar_style='info', max=1), HTML(value='')))"
      ]
     },
     "metadata": {},
     "output_type": "display_data"
    },
    {
     "name": "stdout",
     "output_type": "stream",
     "text": [
      "\n"
     ]
    }
   ],
   "source": [
    "import csv\n",
    "import json\n",
    "from pymongo import MongoClient\n",
    "# pprint library is used to make the output look more pretty\n",
    "from pprint import pprint\n",
    "import numpy as np\n",
    "import time\n",
    "from tqdm import tqdm_notebook as tqdm\n",
    "tqdm().pandas()"
   ]
  },
  {
   "cell_type": "markdown",
   "metadata": {},
   "source": [
    "# Loading on Mongo"
   ]
  },
  {
   "cell_type": "code",
   "execution_count": 2,
   "metadata": {},
   "outputs": [],
   "source": [
    "# Connect to Mongo\n",
    "client = MongoClient('localhost', 27017)\n",
    "\n",
    "db = client[\"nyc_one\"]"
   ]
  },
  {
   "cell_type": "code",
   "execution_count": 3,
   "metadata": {},
   "outputs": [],
   "source": [
    "# storing collections as python variables\n",
    "\n",
    "taxis_coll = db[\"nyc_total\"]\n",
    "lookup_coll = db[\"lookup\"]"
   ]
  },
  {
   "cell_type": "markdown",
   "metadata": {},
   "source": [
    "### Importing data"
   ]
  },
  {
   "cell_type": "code",
   "execution_count": 4,
   "metadata": {},
   "outputs": [
    {
     "name": "stdout",
     "output_type": "stream",
     "text": [
      "45.04\n"
     ]
    }
   ],
   "source": [
    "# loading data on mongo collections\n",
    "\n",
    "start = time.time()\n",
    "with open('nyc_total.json', 'r') as f:\n",
    "    file_data = json.load(f)\n",
    "\n",
    "taxis_coll.insert_many(file_data)\n",
    "\n",
    "end = time.time()\n",
    "print(round((end - start)/60 ,2))"
   ]
  },
  {
   "cell_type": "code",
   "execution_count": 5,
   "metadata": {},
   "outputs": [
    {
     "name": "stdout",
     "output_type": "stream",
     "text": [
      "1.38\n"
     ]
    }
   ],
   "source": [
    "# loading data on mongo collections\n",
    "\n",
    "start = time.time()\n",
    "with open('lookup.json', 'r') as f:\n",
    "    file_data = json.load(f)\n",
    "\n",
    "lookup_coll.insert_many(file_data)\n",
    "\n",
    "end = time.time()\n",
    "print(round((end - start)/60 ,2))"
   ]
  },
  {
   "cell_type": "markdown",
   "metadata": {},
   "source": [
    "# Updating documents"
   ]
  },
  {
   "cell_type": "code",
   "execution_count": 23,
   "metadata": {},
   "outputs": [],
   "source": [
    "vendor1 = { \"vendor_id\" : 1}\n",
    "value_vend1 = { \"$set\": {\"vendor_id\":  \"Creative Mobile Technologies\"} }\n",
    "\n",
    "vendor2 = { \"vendor_id\" : 2}\n",
    "value_vend2 = { \"$set\": {\"vendor_id\":  \"VeriFone Inc\"} }"
   ]
  },
  {
   "cell_type": "code",
   "execution_count": 21,
   "metadata": {},
   "outputs": [
    {
     "name": "stdout",
     "output_type": "stream",
     "text": [
      "3846105 documents updated.\n"
     ]
    }
   ],
   "source": [
    "upd_vend1 = taxis_coll.update_many(vendor1, value_vend1)\n",
    "\n",
    "print(upd_vend1.modified_count, \"documents updated.\")"
   ]
  },
  {
   "cell_type": "code",
   "execution_count": 24,
   "metadata": {
    "scrolled": true
   },
   "outputs": [
    {
     "name": "stdout",
     "output_type": "stream",
     "text": [
      "4913768 documents updated.\n"
     ]
    }
   ],
   "source": [
    "upd_vend2 = taxis_coll.update_many(vendor2, value_vend2)\n",
    "\n",
    "print(upd_vend2.modified_count, \"documents updated.\")"
   ]
  },
  {
   "cell_type": "code",
   "execution_count": 29,
   "metadata": {},
   "outputs": [],
   "source": [
    "pay1 = {\"pay_type\" : 1}\n",
    "pay2 = {\"pay_type\" : 2}\n",
    "pay3 = {\"pay_type\" : 3}\n",
    "pay4 = {\"pay_type\" : 4}\n",
    "pay5 = {\"pay_type\" : 5}\n",
    "pay6 = {\"pay_type\" : 6}\n",
    "\n",
    "value_pay1 = {\"$set\" : {\"pay_type\":\"CreditCard\"}}\n",
    "value_pay2 = {\"$set\" : {\"pay_type\":\"Cash\"}}\n",
    "value_pay3 = {\"$set\" : {\"pay_type\":\"NoCharge\"}}\n",
    "value_pay4 = {\"$set\" : {\"pay_type\":\"NoCharge\"}} \n",
    "value_pay5 = {\"$set\" : {\"pay_type\":\"Unknown\"}}\n",
    "value_pay6 = {\"$set\" : {\"pay_type\":\"VoidedTrip\"}}"
   ]
  },
  {
   "cell_type": "code",
   "execution_count": 30,
   "metadata": {
    "scrolled": true
   },
   "outputs": [
    {
     "name": "stdout",
     "output_type": "stream",
     "text": [
      "5.68\n"
     ]
    }
   ],
   "source": [
    "start = time.time()\n",
    "\n",
    "upd_pay1 = taxis_coll.update_many(pay1, value_pay1)\n",
    "upd_pay2 = taxis_coll.update_many(pay2, value_pay2)\n",
    "upd_pay3 = taxis_coll.update_many(pay3, value_pay3)\n",
    "upd_pay4 = taxis_coll.update_many(pay4, value_pay4)\n",
    "upd_pay5 = taxis_coll.update_many(pay5, value_pay5)\n",
    "upd_pay6 = taxis_coll.update_many(pay6, value_pay6)\n",
    "\n",
    "end = time.time()\n",
    "print(round((end - start)/60 ,2))"
   ]
  },
  {
   "cell_type": "code",
   "execution_count": 31,
   "metadata": {
    "scrolled": true
   },
   "outputs": [
    {
     "name": "stdout",
     "output_type": "stream",
     "text": [
      "{'_id': ObjectId('5cdeb7a42fab768032e2ed37'), 'id': 1, 'vendor_id': 'Creative Mobile Technologies', 'pickup_datetime': '2018-01-01 00:21:05', 'drop_datetime': '2018-01-01 00:24:23', 'pass_count': 1, 'distance': 0.5, 'ratecode': 1, 'store_flag': 'N', 'pu_loc': 41, 'do_loc': 24, 'pay_type': 'Cash', 'fare': 4.5, 'extra': 0.5, 'mta_tax': 0.5, 'tip': 0.0, 'tolls': 0.0, 'improvement': 0.3, 'total': 5.8, 'pickup_date': '2018-01-01', 'pickup_time': '00:21:05', 'dropoff_date': '2018-01-01', 'dropoff_time': '00:24:23'}\n"
     ]
    }
   ],
   "source": [
    "for el in taxis_coll.find().limit(1):\n",
    "    print(el)"
   ]
  },
  {
   "cell_type": "markdown",
   "metadata": {},
   "source": [
    "# Queries"
   ]
  },
  {
   "cell_type": "code",
   "execution_count": 48,
   "metadata": {},
   "outputs": [
    {
     "data": {
      "text/plain": [
       "[{'_id': 'VeriFone Inc', 'trips_count': 4913768},\n",
       " {'_id': 'Creative Mobile Technologies', 'trips_count': 3846106}]"
      ]
     },
     "execution_count": 48,
     "metadata": {},
     "output_type": "execute_result"
    }
   ],
   "source": [
    "# number of trips per vendor_id\n",
    "\n",
    "pip_vendor_trips = [\n",
    "    {\"$group\": {\"_id\": \"$vendor_id\", \"trips_count\": { \"$sum\": 1}}},\n",
    "]\n",
    "\n",
    "trips_vendor = taxis_coll.aggregate(pip_vendor_trips)\n",
    "trips_vendor = list(trips_vendor)\n",
    "trips_vendor"
   ]
  },
  {
   "cell_type": "code",
   "execution_count": 49,
   "metadata": {},
   "outputs": [
    {
     "data": {
      "text/plain": [
       "[{'_id': 'CreditCard', 'num_trips': 6105871}]"
      ]
     },
     "execution_count": 49,
     "metadata": {},
     "output_type": "execute_result"
    }
   ],
   "source": [
    "# most common payment_type\n",
    "\n",
    "pip_common_pay = [\n",
    "    {\"$group\": {\"_id\": \"$pay_type\", \"num_trips\" : { \"$sum\": 1}}},\n",
    "    {\"$sort\": {\"num_trips\": -1}},\n",
    "    {\"$limit\" : 1}\n",
    "]\n",
    "\n",
    "common_pay = taxis_coll.aggregate(pip_common_pay)\n",
    "common_pay = list(common_pay)\n",
    "common_pay"
   ]
  },
  {
   "cell_type": "code",
   "execution_count": null,
   "metadata": {},
   "outputs": [],
   "source": [
    "# top 5 trips with both distance > 3 AND amount < 15\n",
    "\n",
    "top_five = taxis_coll.find({\"distance\"  : {\"$gt\" : 3}, \"fare\" : {\"$lt\" : 15}}).limit(5)\n",
    "top_five = list(top_five)\n",
    "top_five"
   ]
  },
  {
   "cell_type": "code",
   "execution_count": 85,
   "metadata": {
    "scrolled": false
   },
   "outputs": [
    {
     "data": {
      "text/plain": [
       "[{'_id': 'VeriFone Inc', 'avg': 2.910206959302922},\n",
       " {'_id': 'Creative Mobile Technologies', 'avg': 2.6683130418142404}]"
      ]
     },
     "execution_count": 85,
     "metadata": {},
     "output_type": "execute_result"
    }
   ],
   "source": [
    "# average trip_distance per vendor_id\n",
    "\n",
    "pip_avg_dist = [\n",
    "    {\"$group\" : {\"_id\" : \"$vendor_id\", \"avg\" : {\"$avg\" : \"$distance\"}}},\n",
    "    {\"$project\" : {\"_id\" : 1, \"avg\" : 1, \"avg\" : 1}}\n",
    "]\n",
    "\n",
    "avg_dist = taxis_coll.aggregate(pip_avg_dist)\n",
    "avg_dist = list(avg_dist)\n",
    "avg_dist"
   ]
  },
  {
   "cell_type": "code",
   "execution_count": 51,
   "metadata": {},
   "outputs": [],
   "source": [
    "# retrieving Manhattan ids from lookup collection\n",
    "\n",
    "manhattan_id = []\n",
    "for el in lookup_coll.find({\"Borough\" : \"Manhattan\"}):\n",
    "    manhattan_id.append(el['LocationID'])"
   ]
  },
  {
   "cell_type": "code",
   "execution_count": 68,
   "metadata": {},
   "outputs": [],
   "source": [
    "# trips with most common vendor_id AND NOT most common Borough\n",
    "\n",
    "pip_not = [\n",
    "    {\"$match\" : {\"vendor_id\" : \"Creative Mobile Technologies\", \"pu_loc\" : {\"$nin\" :  manhattan_id}}},\n",
    "    {\"$project\" : {\"vendor_id\" : 1, \"pu_loc\" : 1, \"distance\" : 1}}\n",
    "]\n",
    "\n",
    "not_most = taxis_coll.aggregate(pip_not)"
   ]
  },
  {
   "cell_type": "code",
   "execution_count": 69,
   "metadata": {},
   "outputs": [
    {
     "data": {
      "text/plain": [
       "369098"
      ]
     },
     "execution_count": 69,
     "metadata": {},
     "output_type": "execute_result"
    }
   ],
   "source": [
    "not_most = list(not_most)\n",
    "len(not_most)"
   ]
  },
  {
   "cell_type": "code",
   "execution_count": 72,
   "metadata": {},
   "outputs": [
    {
     "data": {
      "text/plain": [
       "{'_id': ObjectId('5cdeb7a42fab768032e2ed5f'),\n",
       " 'vendor_id': 'Creative Mobile Technologies',\n",
       " 'distance': 4.6,\n",
       " 'pu_loc': 145}"
      ]
     },
     "execution_count": 72,
     "metadata": {},
     "output_type": "execute_result"
    }
   ],
   "source": [
    "not_most[0]"
   ]
  },
  {
   "cell_type": "code",
   "execution_count": 74,
   "metadata": {},
   "outputs": [],
   "source": [
    "for obj in not_most:\n",
    "    for el in manhattan_id: \n",
    "        if el == obj['pu_loc']:\n",
    "            print('doh!')"
   ]
  }
 ],
 "metadata": {
  "kernelspec": {
   "display_name": "Python 3",
   "language": "python",
   "name": "python3"
  },
  "language_info": {
   "codemirror_mode": {
    "name": "ipython",
    "version": 3
   },
   "file_extension": ".py",
   "mimetype": "text/x-python",
   "name": "python",
   "nbconvert_exporter": "python",
   "pygments_lexer": "ipython3",
   "version": "3.6.5"
  }
 },
 "nbformat": 4,
 "nbformat_minor": 2
}
